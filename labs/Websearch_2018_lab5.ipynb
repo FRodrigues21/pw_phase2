{
 "cells": [
  {
   "cell_type": "markdown",
   "metadata": {},
   "source": [
    "# Web Search 2018 - Tutorial 5: Multi-Feature Label Propagation\n",
    "## Contents\n",
    "\n",
    "1. [Overview](#head1)\n",
    "  1. [Code Imports](#head11)\n",
    "2. [Iterative Label Propagation on Web Data](#head2)\n",
    "  1. [Multi-label LP Algorithm](#head21)\n",
    "  2. [Implement the Multi-label LP Algorithm](#head22)\n",
    "  3. [Evaluation](#head23)\n",
    "  4. [Exercises](#head24)\n",
    "3. [Multi-Feature Iterative Label Propagation](#head3)\n",
    "  1. [Implement the Multi-Feature Iterative Label Propagation](#head31)\n",
    "  2. [Exercises](#head32)\n",
    "\n",
    "## <a name=\"head1\"></a> Overview"
   ]
  },
  {
   "cell_type": "markdown",
   "metadata": {},
   "source": [
    "In the previous lab you implemented the Iterative Label Propagation algorithm, which consists of a semi-supervised graph approach to annotate uncategorized/unlabelled data starting from a small set of categorized/labelled data.\n",
    "\n",
    "The target dataset was the MNIST Digits, which is only adequate for implementation purposes (i.e. testing, debugging, etc.). In this lab, the first step will be to apply the LP algorithm to Web data and analyse its behaviour.\n",
    "\n",
    "\n",
    "Additionally, in the LP implementation of the previous lab, semantic affinity between documents (images/texts) was computed based on a **single feature space**. In this lab the LP algorithm definition will be revisited in order to accomodate the computation of semantic affinity between documents under **multiple feature spaces**. This will allow the construction of a much more richer graph, supporting propagation of labels by different similarity criteria. \n",
    "\n",
    "\n",
    "**Lab objectives:**\n",
    "* Apply the iterative version of the Label Propagation algorithm to Web data scenario and analyse the results;\n",
    "* Implement the Multi-feature iterative Label Propagation algorithm."
   ]
  },
  {
   "cell_type": "markdown",
   "metadata": {},
   "source": [
    "### <a name=\"head11\"></a> Code Imports"
   ]
  },
  {
   "cell_type": "code",
   "execution_count": 1,
   "metadata": {},
   "outputs": [
    {
     "name": "stderr",
     "output_type": "stream",
     "text": [
      "Using TensorFlow backend.\n"
     ]
    },
    {
     "name": "stdout",
     "output_type": "stream",
     "text": [
      "/Users/franciscorodrigues/Projects/PW/pw_phase2/labs changing to: /Users/franciscorodrigues/Projects/PW/pw_phase2/labs/../\n",
      "/Users/franciscorodrigues/Projects/PW/pw_phase2\n",
      "[nltk_data] Downloading package wordnet to\n",
      "[nltk_data]     /Users/franciscorodrigues/nltk_data...\n",
      "[nltk_data]   Package wordnet is already up-to-date!\n"
     ]
    }
   ],
   "source": [
    "from tokenizer import tokenizer\n",
    "from sklearn.feature_extraction.text import CountVectorizer\n",
    "from sklearn.metrics.pairwise import euclidean_distances\n",
    "import matplotlib.pyplot as plt\n",
    "import numpy as np\n",
    "from numpy import linalg as LA\n",
    "import pandas as pd\n",
    "from skimage.feature import hog\n",
    "from skimage.color import rgb2gray\n",
    "from skimage.io import imread\n",
    "from sklearn.preprocessing import normalize\n",
    "from skimage import color\n",
    "from skimage import data, exposure\n",
    "import random\n",
    "from numpy.random import shuffle\n",
    "from sklearn.preprocessing import MultiLabelBinarizer\n",
    "from sklearn.metrics import classification_report\n",
    "from skimage import img_as_ubyte\n",
    "import warnings\n",
    "import os\n",
    "import time\n",
    "from keras.applications.vgg16 import VGG16\n",
    "from keras.applications.vgg16 import preprocess_input, decode_predictions\n",
    "from keras.preprocessing import image\n",
    "warnings.filterwarnings('ignore')\n",
    "\n",
    "print(os.getcwd(), \"changing to:\", os.getcwd()+\"/../\")\n",
    "\n",
    "# Change this according to the path where you have the ws_toolkit\n",
    "ws_toolkit_path = os.getcwd()+\"/..\"\n",
    "\n",
    "os.chdir(ws_toolkit_path)\n",
    "print(os.getcwd())\n",
    "from ws_toolkit.utils import center_crop_image, k_neighbours, hoc, init_bow, process_images_keras"
   ]
  },
  {
   "cell_type": "markdown",
   "metadata": {},
   "source": [
    "### Global Variables"
   ]
  },
  {
   "cell_type": "code",
   "execution_count": 2,
   "metadata": {},
   "outputs": [],
   "source": [
    "# Cached arrays\n",
    "croppedImages = []\n",
    "X_HOC = None\n",
    "X_HOG = None\n",
    "X_BOW = None\n",
    "X_CNN = None\n",
    "CNN_PREDICTIONS = []"
   ]
  },
  {
   "cell_type": "markdown",
   "metadata": {},
   "source": [
    "### Pre Processing"
   ]
  },
  {
   "cell_type": "code",
   "execution_count": 3,
   "metadata": {},
   "outputs": [],
   "source": [
    "def cropImageList(images):\n",
    "    global croppedImages\n",
    "    if len(croppedImages) <= 0:\n",
    "        for imgName in images:\n",
    "            croppedImg = []\n",
    "            # Read image\n",
    "            img = imread(\"./images/\"+imgName)\n",
    "            # Resize image\n",
    "            croppedImg = center_crop_image(img, size=224)\n",
    "            croppedImages.append(croppedImg)\n",
    "    else:\n",
    "        print(\"Using cached cropped images\")\n",
    "    return croppedImages\n",
    "\n",
    "# Read dataset .csv\n",
    "df = pd.read_csv(\"./visualstories_edfest_2016_twitter_xmedia.csv\",\n",
    "                 sep=';', encoding=\"utf-8\")\n",
    "\n",
    "data = np.array([df.get(\"text\").values, df.get(\n",
    "    \"image-url\").values, df.get(\"gt_class\").values])\n",
    "# This are the text of the tweets\n",
    "tweets = data[0]\n",
    "# This are the links of the images of the tweets (ex: C0zsADasd213.jpg)\n",
    "imageLinks = [i.replace('https://pbs.twimg.com/media/', '') for i in data[1]]\n",
    "# This are the arrays of the data of each cropped image\n",
    "targets = [list(map(int, c.replace(' ', '').split(\",\"))) for c in data[2]]\n",
    "# Save cropped images in cache\n",
    "croppedImages = cropImageList(imageLinks)"
   ]
  },
  {
   "cell_type": "markdown",
   "metadata": {},
   "source": [
    "### Feature Spaces"
   ]
  },
  {
   "cell_type": "code",
   "execution_count": 4,
   "metadata": {},
   "outputs": [],
   "source": [
    "def features_hog(images, pixels_per_cell=(32, 32), orientations=8):\n",
    "    global X_HOG\n",
    "    if X_HOG is None:\n",
    "        X_HOG = []\n",
    "        for img in images:\n",
    "            # Convert to grayscale\n",
    "            img_gray = rgb2gray(img)   \n",
    "            # Extract HoG features\n",
    "            hist = hog(img_gray, orientations=orientations, pixels_per_cell=pixels_per_cell)   \n",
    "            # Normalize features\n",
    "            # We add 1 dimension to comply with scikit-learn API\n",
    "            hist = np.squeeze(normalize(hist.reshape(1, -1), norm=\"l2\"))  \n",
    "            X_HOG.append(hist)\n",
    "        # Creating a feature matrix for all images\n",
    "        X_HOG = np.array(X_HOG)\n",
    "    return X_HOG\n",
    "\n",
    "def getColorMatrix(_croppedImages, _bins=(4,4,4), _hsv=True): \n",
    "    global X_HOC\n",
    "    #Histogram of colors results\n",
    "    if X_HOC is None:   \n",
    "        X_HOC = []\n",
    "        for img in _croppedImages:    \n",
    "            # Change image color space from RGB to HSV. \n",
    "            # HSV color space was designed to more closely align with the way human vision perceive color-making attributes\n",
    "            img_q = img\n",
    "            if _hsv:\n",
    "                img_q = color.rgb2hsv(img)    \n",
    "            # convert image pixels to [0, 255] range, and to uint8 type\n",
    "            img_q = img_as_ubyte(img_q)\n",
    "            # Extract HoC features\n",
    "            hist, bin_edges = hoc(img_q, bins=_bins)    \n",
    "            # Normalize features\n",
    "            # We add 1 dimension to comply with scikit-learn API\n",
    "            hist = np.squeeze(normalize(hist.reshape(1, -1), norm=\"l2\"))    \n",
    "            X_HOC.append(hist)    \n",
    "        # Creating a feature matrix for all images\n",
    "        X_HOC = np.array(X_HOC)\n",
    "    return X_HOC\n",
    "\n",
    "def execute_bow(_dataTexts, _lemmatize=False, _mdf=3, _metric=\"cosine\", _k=10, _handles=False, _hashes=False, _case=False, _url=False):\n",
    "    global X_BOW\n",
    "    if X_BOW is None:\n",
    "        tknzr = tokenizer.TweetTokenizer(preserve_handles=_handles, preserve_hashes=_hashes, preserve_case=_case, preserve_url=_url)\n",
    "        vectorizer, X_BOW = init_bow(_dataTexts, {\"tknzr\": tknzr, \"lemmatize\": _lemmatize}, _mdf)\n",
    "    return X_BOW\n",
    "\n",
    "def getTagsBow(_dataImages):\n",
    "    global X_CNN\n",
    "    global CNN_PREDICTIONS\n",
    "    model = VGG16(weights='imagenet', include_top=True)\n",
    "    start = time.time()\n",
    "    if len(CNN_PREDICTIONS) <= 0:\n",
    "        start_i = time.time()\n",
    "        img_list = process_images_keras(_dataImages)\n",
    "        end_i = time.time()\n",
    "        print(\"Processed Images finished: {}\".format(end_i - start_i))\n",
    "        #model = ResNet50(weights='imagenet')\n",
    "        # Convert from list to ndarray\n",
    "        img_array_list = np.vstack(img_list)\n",
    "        # Feed all images to the model\n",
    "        print(\"No Cached Predictions\")\n",
    "        CNN_PREDICTIONS = model.predict(img_array_list)\n",
    "    else:\n",
    "        print(\"Using Cached Predictions\")\n",
    "    end = time.time()\n",
    "    print(\"Model Predictions finished: {}\".format(end - start))\n",
    "    #print(\"Resulting shape of the network output: {}\".format(preds.shape))\n",
    "    concepts = decode_predictions(CNN_PREDICTIONS, top=5)\n",
    "    # Experiment with this parameter\n",
    "    k = 5\n",
    "    # Get the top K most probable concepts per image\n",
    "    sorted_concepts =  np.argsort(CNN_PREDICTIONS, axis=1)[:,::-1][:,:k]\n",
    "    data_tags = concepts\n",
    "    mlb = MultiLabelBinarizer(classes=range(0,1000))\n",
    "    X_CNN = mlb.fit_transform(sorted_concepts)\n",
    "    #print(tags_bow.shape)\n",
    "    return X_CNN\n",
    "\n",
    "def computeFeatures():\n",
    "    pixels_per_cell = (32, 32)\n",
    "    orientations = 8\n",
    "    \n",
    "    bins = (4,4,4)\n",
    "    hsv = True\n",
    "    \n",
    "    _lemmatize=False\n",
    "    _mdf=3\n",
    "    _metric=\"cosine\"\n",
    "    _k=10\n",
    "    _handles=False\n",
    "    _hashes=False\n",
    "    _case=False\n",
    "    _url=False\n",
    "    \n",
    "    return features_hog(croppedImages, pixels_per_cell, orientations), getColorMatrix(croppedImages, bins, hsv), execute_bow(tweets, _lemmatize, _mdf, _metric, _k, _handles, _hashes, _case, _url), getTagsBow(imageLinks)"
   ]
  },
  {
   "cell_type": "code",
   "execution_count": 5,
   "metadata": {},
   "outputs": [
    {
     "name": "stdout",
     "output_type": "stream",
     "text": [
      "Processed Images finished: 55.949628829956055\n",
      "No Cached Predictions\n",
      "Model Predictions finished: 1202.4006950855255\n"
     ]
    }
   ],
   "source": [
    "# Cache features\n",
    "X_HOG, X_HOC, X_BOW, X_CNN = computeFeatures()"
   ]
  },
  {
   "cell_type": "markdown",
   "metadata": {},
   "source": [
    "# <a name=\"head2\"></a> Iterative Label Propagation on Web Data"
   ]
  },
  {
   "cell_type": "markdown",
   "metadata": {},
   "source": [
    "Consider a dataset $X=\\{x_1, x_2, \\ldots, x_L, \\ \\ x_{L+1}, \\ldots, x_N\\}$, with $N$ data points, where each $x_i$ consists of some feature representation of document $i$. Given a categories set $C=\\{1, 2, \\ldots, |C|\\}$, it is assumed that the first $L$ data points are labelled with a label $c \\in C$, and the remaining ones are unlabelled.\n",
    "\n",
    "Please refer to the \"Mining Data Graphs\" class (lectured on 29/10), namely slides 28, 29 and 30, for a description of the algorithm steps.\n",
    "\n",
    "For more information, you can check the original paper: Dengyong Zhou, Olivier Bousquet, Thomas Navin Lal, Jason Weston, Bernhard Schoelkopf. Learning with local and global consistency (2004) http://citeseer.ist.psu.edu/viewdoc/summary?doi=10.1.1.115.3219\n"
   ]
  },
  {
   "cell_type": "markdown",
   "metadata": {},
   "source": [
    "## <a name=\"head21\"></a> Multi-label LP Algorithm"
   ]
  },
  {
   "cell_type": "markdown",
   "metadata": {},
   "source": [
    "Apply the Iterative LP algorithm on your project dataset and discuss its effectiveness.\n",
    "\n",
    "The dataset has a total of 13 categories. The categories of each document are available in the corresponding line of that document (column 'gt_class'), in the provided .csv file. Multiple categories are separated by a comma ','. You should represent each document's categories as a 13-dimensional vector (one-hot encoding), as you did for the MNIST dataset. In this case, you may have more than 1 active dimension."
   ]
  },
  {
   "cell_type": "markdown",
   "metadata": {},
   "source": [
    "### <a name=\"head22\"></a> Implement the Multi-label LP Algorithm\n",
    "\n",
    "**Multi-label LP:** As each document has multiple categories, you will need to modify your LP implementation. Instead of an **argmax** to select the final category of each document, you will need to **select the top-k categories**, by applying a threshold on the number of categories assigned.\n",
    "\n",
    "**Discuss:** Discuss examples of thresholds (e.g. select the top-3 labels, keep all categories with their values $>\\alpha$, etc.)  .\n"
   ]
  },
  {
   "cell_type": "code",
   "execution_count": 6,
   "metadata": {},
   "outputs": [],
   "source": [
    "def runAlg(mlb, images, y, y_true, features, weights, selection, topk, threshold, alpha, iterations, params=None, mf = False, indices_unlabeled=[]):\n",
    "\n",
    "    # Step 2 - Normalize Y and Initialize matrix F with Y\n",
    "    Y_hidden = normalize(y, axis = 1, norm=\"l1\")\n",
    "    F = Y_hidden\n",
    "    #print(F[indices_labeled[0],:])\n",
    "    \n",
    "    # Step 3 - Compute matrix W (multi feature -mf true; or single feature -mf false)\n",
    "    W = []\n",
    "    if mf is True:\n",
    "        M = None\n",
    "        for i in range(len(features)):\n",
    "            M = weights[i]*euclidean_distances(features[i], features[i])\n",
    "        #M = weights[0]*euclidean_distances(feature[0], feature[0]) + weights[1]*euclidean_distances(feature[1], feature[1])\n",
    "    else:\n",
    "        M = euclidean_distances(features[0], features[0])\n",
    "        \n",
    "    sigma = np.std(M)\n",
    "    W = np.exp(-1 * M / (2*sigma**2))\n",
    "\n",
    "    # Step 4 - Normalize W\n",
    "    D = np.zeros(W.shape)\n",
    "    np.fill_diagonal(D, W.sum(axis=0))\n",
    "\n",
    "    D12 = np.zeros(D.shape)\n",
    "    from numpy.linalg import inv\n",
    "    D12 = inv(np.sqrt(D))\n",
    "\n",
    "    S = np.dot(D12, W)\n",
    "    S = np.dot(S, D12)\n",
    "\n",
    "    # Step 5 - Perform the F update step num_iterations steps\n",
    "    for i in range(1, iterations):\n",
    "        T1 = alpha * S\n",
    "        T1 = np.dot(T1, F)\n",
    "        T2 =  (1 - alpha) * Y_hidden\n",
    "        F = T1 + T2\n",
    "        #Normalizar para F (verficar segmentos)\n",
    "        F = normalize(F, axis = 1, norm=\"l1\")\n",
    "        \n",
    "    print(\"Indice unlabeled: {}\\nNormalized F: {}\".format(indices_unlabeled[0], F[indices_unlabeled[0],:]))\n",
    "    # Select top k classes\n",
    "    if selection is True:\n",
    "        F = np.fliplr(np.argsort(F, axis=1))\n",
    "        F = F[:,:topk]\n",
    "        Y = mlb.transform(F)\n",
    "    else:\n",
    "        T = []\n",
    "        for row in F:\n",
    "            T.append([i for i, v in enumerate(row) if v >= threshold])\n",
    "        Y = mlb.transform(T)\n",
    "    return Y"
   ]
  },
  {
   "cell_type": "code",
   "execution_count": 7,
   "metadata": {},
   "outputs": [],
   "source": [
    "def runAll(iterations, p, features, weights, alpha, selection, topk, threshold, mf):\n",
    "    #Choose a random number between 1 and 100 to shuffle to prevent biased results\n",
    "    rand_seed = random.randint(1,100)\n",
    "    indices = np.arange(len(tweets))\n",
    "    np.random.seed(rand_seed)\n",
    "    shuffle(indices)\n",
    "\n",
    "    X = tweets\n",
    "    np.random.seed(rand_seed)\n",
    "    shuffle(X)\n",
    "\n",
    "    y_target = targets\n",
    "    np.random.seed(rand_seed)\n",
    "    shuffle(y_target)\n",
    "\n",
    "    total_images = X.shape[0]\n",
    "\n",
    "    # Let's assume that 20% of the dataset is labeled\n",
    "    labeled_set_size = int(total_images*p)\n",
    "\n",
    "    indices_labeled = indices[:labeled_set_size]\n",
    "    indices_unlabeled = indices[labeled_set_size:]\n",
    "    \n",
    "    print(\" \")\n",
    "    print(\"Iteration: {} - Total tweets labeled: {} - Total tweets unlabeled: {}\".format(iterations,\n",
    "        len(indices_labeled), len(indices_unlabeled)))\n",
    "\n",
    "\n",
    "    # Convert labels to a one-hot-encoded vector\n",
    "    # Keep groundtruth labels\n",
    "    classes = [0, 1, 2, 3, 4, 5, 6, 7, 8, 9, 10, 11, 12]\n",
    "    # print(classes)\n",
    "    mlb = MultiLabelBinarizer(classes=classes)\n",
    "    #print(y_target[:1])\n",
    "    Y_true = mlb.fit_transform(y_target)\n",
    "    Y = mlb.transform(y_target)\n",
    "    #print(Y[:1])\n",
    "    # Remove labels of \"unlabeled\" data \n",
    "    Y[indices_unlabeled, :] = np.zeros(Y.shape[1])\n",
    "    \n",
    "    # Run Algorithm and Get Results\n",
    "    Y = runAlg(mlb, croppedImages, Y, Y_true, features=features, weights=weights, selection=selection, topk=topk, threshold=threshold,\n",
    "            alpha=alpha, iterations=iterations, mf=mf, indices_unlabeled=indices_unlabeled)\n",
    "\n",
    "    Y_pred = Y[indices_unlabeled, :]\n",
    "    y_gt = Y_true[indices_unlabeled, :]\n",
    "   \n",
    "    \n",
    "    print(\"Ground Truth: {}\".format(Y_true[indices_unlabeled[0],:]))\n",
    "    print(\"Predicted:    {}\".format(Y[indices_unlabeled[0],:]))\n",
    "    \n",
    "   \n",
    "    return Y_pred, y_gt"
   ]
  },
  {
   "cell_type": "markdown",
   "metadata": {},
   "source": [
    "### <a name=\"head23\"></a>  Evaluation\n",
    "Evaluate the results of each run of the Iterative LP."
   ]
  },
  {
   "cell_type": "code",
   "execution_count": 27,
   "metadata": {},
   "outputs": [
    {
     "name": "stdout",
     "output_type": "stream",
     "text": [
      " \n",
      "Iteration: 10 - Total tweets labeled: 1400 - Total tweets unlabeled: 600\n",
      "Indice unlabeled: 1219\n",
      "Normalized F: [0.00399814 0.00068347 0.00105142 0.00202925 0.00136627 0.48277572\n",
      " 0.00799564 0.00101622 0.00346825 0.48374921 0.00835562 0.00136595\n",
      " 0.00214483]\n",
      "Ground Truth: [0 0 0 0 1 0 0 0 1 0 0 0 1]\n",
      "Predicted:    [0 0 0 0 0 1 0 0 0 1 0 0 0]\n",
      " \n",
      "Iteration: 60 - Total tweets labeled: 1400 - Total tweets unlabeled: 600\n",
      "Indice unlabeled: 896\n",
      "Normalized F: [1.28677009e-04 1.56138538e-07 1.65144609e-04 7.95431205e-07\n",
      " 1.28514593e-04 1.57285168e-04 9.98224007e-01 2.99369100e-07\n",
      " 3.86246431e-04 3.07143067e-04 2.15078353e-04 4.99960082e-05\n",
      " 2.36657095e-04]\n",
      "Ground Truth: [1 0 0 0 0 0 0 0 0 0 0 0 0]\n",
      "Predicted:    [0 0 0 0 0 0 1 0 0 0 0 0 0]\n",
      " \n",
      "Iteration: 110 - Total tweets labeled: 1400 - Total tweets unlabeled: 600\n",
      "Indice unlabeled: 488\n",
      "Normalized F: [1.09948804e-03 6.87740064e-04 1.22390647e-03 4.02544886e-04\n",
      " 1.68251286e-03 2.15152857e-05 9.87296859e-01 8.94490187e-06\n",
      " 2.80600960e-03 2.87301132e-04 1.19121558e-03 2.48308127e-05\n",
      " 3.26713159e-03]\n",
      "Ground Truth: [0 0 0 0 0 0 1 0 0 0 0 0 0]\n",
      "Predicted:    [0 0 0 0 0 0 1 0 0 0 0 0 0]\n",
      " \n",
      "Iteration: 160 - Total tweets labeled: 1400 - Total tweets unlabeled: 600\n",
      "Indice unlabeled: 115\n",
      "Normalized F: [4.06161238e-05 3.70571342e-04 4.95989284e-01 1.76340713e-05\n",
      " 1.15317818e-05 2.36689186e-05 5.98302158e-04 1.01262354e-05\n",
      " 1.14423101e-03 1.82816918e-03 1.45305567e-03 8.82964814e-06\n",
      " 4.98503980e-01]\n",
      "Ground Truth: [0 0 0 0 0 1 0 1 1 1 0 0 1]\n",
      "Predicted:    [0 0 1 0 0 0 0 0 0 0 0 0 1]\n",
      " \n",
      "Iteration: 210 - Total tweets labeled: 1400 - Total tweets unlabeled: 600\n",
      "Indice unlabeled: 918\n",
      "Normalized F: [8.97003857e-04 4.79852247e-04 2.48981390e-01 9.26372726e-04\n",
      " 5.05726879e-04 3.63346218e-04 4.94704263e-01 2.57653534e-06\n",
      " 2.38991045e-03 1.08102658e-03 1.19943165e-03 2.43684198e-04\n",
      " 2.48225416e-01]\n",
      "Ground Truth: [0 0 0 0 0 0 0 1 1 0 0 0 1]\n",
      "Predicted:    [0 0 1 0 0 0 1 0 0 0 0 0 1]\n",
      " \n",
      "Iteration: 260 - Total tweets labeled: 1400 - Total tweets unlabeled: 600\n",
      "Indice unlabeled: 994\n",
      "Normalized F: [0.00278008 0.00065631 0.40103475 0.00228603 0.00185423 0.0030566\n",
      " 0.00849521 0.00105546 0.16711791 0.00273679 0.00407481 0.00102055\n",
      " 0.40383128]\n",
      "Ground Truth: [0 0 0 0 0 0 0 0 1 0 0 0 0]\n",
      "Predicted:    [0 0 1 0 0 0 0 0 1 0 0 0 1]\n",
      " \n",
      "Iteration: 310 - Total tweets labeled: 1400 - Total tweets unlabeled: 600\n",
      "Indice unlabeled: 632\n",
      "Normalized F: [1.31008544e-04 3.31922099e-01 2.27115587e-04 3.26998314e-04\n",
      " 1.66809650e-04 5.71627842e-05 5.75838752e-04 2.37349496e-05\n",
      " 1.44561649e-03 3.32307838e-01 3.32373098e-01 4.80818831e-05\n",
      " 3.94597685e-04]\n",
      "Ground Truth: [0 0 0 0 0 1 1 0 0 0 0 0 0]\n",
      "Predicted:    [0 1 0 0 0 0 0 0 0 1 1 0 0]\n",
      " \n",
      "Iteration: 360 - Total tweets labeled: 1400 - Total tweets unlabeled: 600\n",
      "Indice unlabeled: 1362\n",
      "Normalized F: [1.89457600e-09 3.37366323e-12 2.49999996e-01 8.28451963e-10\n",
      " 2.01062998e-09 4.99161317e-10 2.29275999e-09 3.59768132e-11\n",
      " 4.99999995e-01 9.21070943e-10 2.06296078e-09 3.13911449e-13\n",
      " 2.49999998e-01]\n",
      "Ground Truth: [0 1 0 0 0 0 0 0 0 0 0 0 0]\n",
      "Predicted:    [0 0 1 0 0 0 0 0 1 0 0 0 1]\n",
      " \n",
      "Iteration: 410 - Total tweets labeled: 1400 - Total tweets unlabeled: 600\n",
      "Indice unlabeled: 907\n",
      "Normalized F: [2.52944184e-13 3.96423496e-13 5.17637943e-13 4.75349321e-13\n",
      " 1.41652909e-09 6.76688513e-13 4.90344600e-09 1.20298334e-15\n",
      " 1.41717819e-09 9.37130309e-13 3.38256273e-13 3.78651907e-16\n",
      " 9.99999992e-01]\n",
      "Ground Truth: [1 0 0 0 0 1 0 0 0 1 1 0 1]\n",
      "Predicted:    [0 0 0 0 0 0 0 0 0 0 0 0 1]\n",
      " \n",
      "Iteration: 460 - Total tweets labeled: 1400 - Total tweets unlabeled: 600\n",
      "Indice unlabeled: 701\n",
      "Normalized F: [4.07610050e-09 2.90932081e-09 4.99999970e-01 1.86954283e-09\n",
      " 4.00193438e-09 1.21221750e-09 6.35545334e-09 5.22323786e-10\n",
      " 2.06594635e-08 6.49432729e-09 1.01853352e-08 2.68937628e-11\n",
      " 4.99999972e-01]\n",
      "Ground Truth: [0 0 0 0 0 0 0 1 1 0 0 0 1]\n",
      "Predicted:    [0 0 1 0 0 0 0 0 0 0 0 0 1]\n",
      "\n",
      "Results List:    \n",
      "[[0.17245368 0.39947976 0.2393328         nan]\n",
      " [0.16652244 0.37383813 0.22930868        nan]\n",
      " [0.17463899 0.41053167 0.24243932        nan]\n",
      " [0.16457265 0.36651176 0.22598771        nan]\n",
      " [0.15354202 0.37320842 0.21636447        nan]\n",
      " [0.16947312 0.38318688 0.2333333         nan]\n",
      " [0.16770613 0.37883528 0.23060702        nan]\n",
      " [0.16706674 0.3879344  0.23093225        nan]\n",
      " [0.15575845 0.34336498 0.2125914         nan]\n",
      " [0.17214432 0.39432431 0.2383626         nan]]\n",
      "\n",
      "Results Report:  \n",
      "             precision    recall  f1-score   support\n",
      "\n",
      "          0       0.20      0.49      0.28       104\n",
      "          1       0.05      0.12      0.07        48\n",
      "          2       0.14      0.49      0.22        75\n",
      "          3       0.08      0.17      0.11        52\n",
      "          4       0.10      0.24      0.14        68\n",
      "          5       0.14      0.26      0.19        68\n",
      "          6       0.19      0.50      0.28       117\n",
      "          7       0.08      0.18      0.11        45\n",
      "          8       0.38      0.77      0.51       228\n",
      "          9       0.24      0.48      0.32       131\n",
      "         10       0.21      0.52      0.30       119\n",
      "         11       0.05      0.12      0.07        33\n",
      "         12       0.37      0.77      0.50       219\n",
      "\n",
      "avg / total       0.23      0.52      0.32      1307\n",
      "\n",
      "\n",
      "Results Graph:   \n",
      "\n"
     ]
    },
    {
     "data": {
      "image/png": "[encoded data removed]",
      "text/plain": [
       "<Figure size 432x288 with 1 Axes>"
      ]
     },
     "metadata": {
      "needs_background": "light"
     },
     "output_type": "display_data"
    }
   ],
   "source": [
    "from sklearn.metrics import precision_recall_fscore_support as score\n",
    "import matplotlib.pyplot as plt\n",
    "import sys\n",
    "\n",
    "results = np.zeros((10,4))\n",
    "range_iterations = range(10,500,50)\n",
    "j = 0\n",
    "\n",
    "# Variable params\n",
    "p=0.7\n",
    "features=[X_CNN] # Possible X_HOG, X_HOG, X_BOW, X_CNN -> If mf=False use only one feature inside the array\n",
    "weights=[0.4, 0.6] # Sum must be one - and must always be filled even if mf=False\n",
    "alpha=0.2\n",
    "selection=False # False - Top K | True - Threshold\n",
    "topk=3\n",
    "threshold=0.05\n",
    "mf=True\n",
    "\n",
    "for i in range_iterations:\n",
    "    Y_pred, y_gt = runAll(i, p, features, weights, alpha, selection, topk, threshold, mf)\n",
    "    precision, recall, fscore, support = score(y_gt, Y_pred, average='macro')\n",
    "    results[j] = [precision, recall, fscore, support]\n",
    "    j = j+1\n",
    "\n",
    "from sklearn.metrics import classification_report\n",
    "np.set_printoptions(threshold=np.nan)\n",
    "\n",
    "print(\"\\nResults List:    \\n{}\".format(results))\n",
    "print(\"\\nResults Report:  \\n{}\".format(classification_report(y_gt, Y_pred)))\n",
    "\n",
    "print(\"\\nResults Graph:   \\n\")\n",
    "\n",
    "colors = ['r', 'b', 'g']\n",
    "labels = ['precision', 'recall', 'f-score']\n",
    "\n",
    "for i in range(3):\n",
    "    plt.plot(range_iterations, results[:,i], colors[i], label=labels[i])\n",
    "plt.xlabel(\"Iterations\")\n",
    "plt.ylabel(\"Values\")\n",
    "plt.legend(loc='best')\n",
    "plt.show()\n",
    "#plt.plot(range_iterations, results[:,0], 'r', range_iterations, results[:,1], 'b', range_iterations, results[:,2], 'g')"
   ]
  },
  {
   "cell_type": "markdown",
   "metadata": {},
   "source": [
    "### <a name=\"head24\"></a>  Exercises"
   ]
  },
  {
   "cell_type": "code",
   "execution_count": 9,
   "metadata": {},
   "outputs": [],
   "source": [
    "# Which feature spaces are more effective? Do a per-class inspection and understand which feature spaces are more effective for each class and why. \n",
    "\n",
    "# How does the LP algorithm behaves when you change the number of initial labels? (variable labeled_set_size on lab4)\n",
    "\n",
    "# Note that documents (Tweets) from your project's dataset have multiple labels, i.e. each document may belong to 1 or more classes. \n",
    "# Discuss how this impacts the label propagation. "
   ]
  },
  {
   "cell_type": "markdown",
   "metadata": {},
   "source": [
    "# <a name=\"head3\"></a> Multi-Feature Iterative Label Propagation "
   ]
  },
  {
   "cell_type": "markdown",
   "metadata": {},
   "source": [
    "Recall the computation of the affinity matrix S.\n",
    "\n",
    "Given some feature space representation, each entry $w_{ij}$, for $i\\neq j$ is computed as:\n",
    "\n",
    "$$\n",
    "\\begin{align}\n",
    "w_{ij} = exp\\Big({-\\frac{||x_i - x_j||^2}{2\\sigma^2}}\\Big),\n",
    "\\end{align}\n",
    "$$\n",
    "where a Gaussian kernel is applied over the distance on the considered feature space.\n",
    "\n",
    "\n",
    "In order compute affinity by considering **multiple feature spaces**, the above expression can be extended as:\n",
    "\n",
    "$$\n",
    "\\begin{align}\n",
    "w_{ij} = exp\\Big({-\\frac{\\Big[\\sum_{f}\\alpha_f\\cdot||x_i^f - x_j^f||\\Big]^2}{2\\sigma^2}}\\Big),\n",
    "\\end{align}\n",
    "$$\n",
    "where each $x^f$ denotes a given feature space and $\\alpha_f$ the weight associated with that space. The weights should be defined such that $\\sum_f \\alpha_f = 1$.\n",
    "\n",
    "You can define the contribution of each feature space by adequately setting its associated weight $\\alpha_f$."
   ]
  },
  {
   "cell_type": "markdown",
   "metadata": {},
   "source": [
    "##  <a name=\"head31\"></a> Implement the Multi-Feature Iterative Label Propagation"
   ]
  },
  {
   "cell_type": "markdown",
   "metadata": {},
   "source": [
    "Note that given the Multi-label implementation of Iterative LP, you should only need to change the computation of each $w_{ij}$."
   ]
  },
  {
   "cell_type": "markdown",
   "metadata": {},
   "source": [
    "### <a name=\"head32\"></a>  Exercises"
   ]
  },
  {
   "cell_type": "code",
   "execution_count": 10,
   "metadata": {},
   "outputs": [],
   "source": [
    "# Discuss the effectiveness of the Multi-Feature approach versus the Single feature variant. Namely, compare HoC+HoG with VGG.\n",
    "\n",
    "# Change the weights of each feature space and interpret the results. Which features better contribute to the overall effectiveness?"
   ]
  },
  {
   "cell_type": "code",
   "execution_count": null,
   "metadata": {},
   "outputs": [],
   "source": []
  },
  {
   "cell_type": "code",
   "execution_count": null,
   "metadata": {},
   "outputs": [],
   "source": []
  }
 ],
 "metadata": {
  "kernelspec": {
   "display_name": "Python 3",
   "language": "python",
   "name": "python3"
  },
  "language_info": {
   "codemirror_mode": {
    "name": "ipython",
    "version": 3
   },
   "file_extension": ".py",
   "mimetype": "text/x-python",
   "name": "python",
   "nbconvert_exporter": "python",
   "pygments_lexer": "ipython3",
   "version": "3.6.6"
  }
 },
 "nbformat": 4,
 "nbformat_minor": 2
}
